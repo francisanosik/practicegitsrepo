{
  "cells": [
    {
      "cell_type": "code",
      "source": [
        "#First connect to our workspace\n",
        "\n",
        "import azureml.core\n",
        "from azureml.core import Workspace\n",
        "\n",
        "#load the workspace from config file\n",
        "\n",
        "ws = Workspace.from_config()\n",
        "print ('Ready to use Azure{} to work with {}'.format(azureml.core.VERSION, ws.name))"
      ],
      "outputs": [
        {
          "output_type": "stream",
          "name": "stdout",
          "text": "Ready to use Azure1.51.0 to work with franciswrkspacefrank\n"
        }
      ],
      "execution_count": 1,
      "metadata": {
        "gather": {
          "logged": 1717655060038
        }
      }
    },
    {
      "cell_type": "code",
      "source": [
        "#Train and Register our Model\n",
        "\n",
        "#experiment going to when submitting our trained model\n",
        "#Experiments is a container of trials that represents multiple model runs\n",
        "\n",
        "from azureml.core import Experiment\n",
        "\n",
        "#use for model registration\n",
        "from azureml.core import Model\n",
        "\n",
        "import pandas as pd\n",
        "import numpy as np\n",
        "\n",
        "# represent our job, completed tasks\n",
        "import joblib\n",
        "from sklearn.model_selection import train_test_split\n",
        "\n",
        "#this is used for metric to calculated Accuracy and predicted scores.\n",
        "from sklearn.metrics import roc_auc_score\n",
        "from sklearn.metrics import roc_curve\n",
        "\n"
      ],
      "outputs": [],
      "execution_count": 2,
      "metadata": {
        "jupyter": {
          "source_hidden": false,
          "outputs_hidden": false
        },
        "nteract": {
          "transient": {
            "deleting": false
          }
        },
        "gather": {
          "logged": 1717655341668
        }
      }
    },
    {
      "cell_type": "code",
      "source": [
        "#create an azure ml experiments in our workspace\n",
        "\n",
        "experiment = Experiment(workspace=ws, name=\"francisfirstexperiment\")\n",
        "run = experiment.start_logging()\n",
        "print(\"Starting experiment\",experiment.name)"
      ],
      "outputs": [
        {
          "output_type": "stream",
          "name": "stdout",
          "text": "Starting experiment francisfirstexperiment\n"
        }
      ],
      "execution_count": 3,
      "metadata": {
        "jupyter": {
          "source_hidden": false,
          "outputs_hidden": false
        },
        "nteract": {
          "transient": {
            "deleting": false
          }
        },
        "gather": {
          "logged": 1717655937404
        }
      }
    },
    {
      "cell_type": "code",
      "source": [
        "#load the diabeted dataset\n",
        "print(\"loading data....\")\n",
        "diabetes = pd.read_csv('diabetes2.csv')\n",
        "diabetes.head()"
      ],
      "outputs": [
        {
          "output_type": "stream",
          "name": "stdout",
          "text": "loading data....\n"
        },
        {
          "output_type": "execute_result",
          "execution_count": 4,
          "data": {
            "text/plain": "   PatientID  Pregnancies  PlasmaGlucose  DiastolicBloodPressure  \\\n0    1142956            1             78                      41   \n1    1823377            0            116                      92   \n2    1916381            8            171                      42   \n3    1247480            3            108                      63   \n4    1516947            8            153                      99   \n\n   TricepsThickness  SerumInsulin        BMI  DiabetesPedigree  Age  Diabetic  \n0                33           311  50.796392          0.420804   24         0  \n1                16           184  18.603630          0.131156   22         0  \n2                29           160  35.482247          0.082671   22         1  \n3                45           297  49.375169          0.100979   46         1  \n4                15            41  35.062139          0.116191   22         1  ",
            "text/html": "<div>\n<style scoped>\n    .dataframe tbody tr th:only-of-type {\n        vertical-align: middle;\n    }\n\n    .dataframe tbody tr th {\n        vertical-align: top;\n    }\n\n    .dataframe thead th {\n        text-align: right;\n    }\n</style>\n<table border=\"1\" class=\"dataframe\">\n  <thead>\n    <tr style=\"text-align: right;\">\n      <th></th>\n      <th>PatientID</th>\n      <th>Pregnancies</th>\n      <th>PlasmaGlucose</th>\n      <th>DiastolicBloodPressure</th>\n      <th>TricepsThickness</th>\n      <th>SerumInsulin</th>\n      <th>BMI</th>\n      <th>DiabetesPedigree</th>\n      <th>Age</th>\n      <th>Diabetic</th>\n    </tr>\n  </thead>\n  <tbody>\n    <tr>\n      <th>0</th>\n      <td>1142956</td>\n      <td>1</td>\n      <td>78</td>\n      <td>41</td>\n      <td>33</td>\n      <td>311</td>\n      <td>50.796392</td>\n      <td>0.420804</td>\n      <td>24</td>\n      <td>0</td>\n    </tr>\n    <tr>\n      <th>1</th>\n      <td>1823377</td>\n      <td>0</td>\n      <td>116</td>\n      <td>92</td>\n      <td>16</td>\n      <td>184</td>\n      <td>18.603630</td>\n      <td>0.131156</td>\n      <td>22</td>\n      <td>0</td>\n    </tr>\n    <tr>\n      <th>2</th>\n      <td>1916381</td>\n      <td>8</td>\n      <td>171</td>\n      <td>42</td>\n      <td>29</td>\n      <td>160</td>\n      <td>35.482247</td>\n      <td>0.082671</td>\n      <td>22</td>\n      <td>1</td>\n    </tr>\n    <tr>\n      <th>3</th>\n      <td>1247480</td>\n      <td>3</td>\n      <td>108</td>\n      <td>63</td>\n      <td>45</td>\n      <td>297</td>\n      <td>49.375169</td>\n      <td>0.100979</td>\n      <td>46</td>\n      <td>1</td>\n    </tr>\n    <tr>\n      <th>4</th>\n      <td>1516947</td>\n      <td>8</td>\n      <td>153</td>\n      <td>99</td>\n      <td>15</td>\n      <td>41</td>\n      <td>35.062139</td>\n      <td>0.116191</td>\n      <td>22</td>\n      <td>1</td>\n    </tr>\n  </tbody>\n</table>\n</div>"
          },
          "metadata": {}
        }
      ],
      "execution_count": 4,
      "metadata": {
        "jupyter": {
          "source_hidden": false,
          "outputs_hidden": false
        },
        "nteract": {
          "transient": {
            "deleting": false
          }
        },
        "gather": {
          "logged": 1717656070731
        }
      }
    },
    {
      "cell_type": "code",
      "source": [
        "#Separate Features and labels\n",
        "x, y = diabetes[['Pregnancies', 'PlasmaGlucose','DiastolicBloodPressure','TricepsThickness','SerumInsulin','BMI','DiabetesPedigree','Age']].values,diabetes['Diabetic'].values"
      ],
      "outputs": [],
      "execution_count": 7,
      "metadata": {
        "jupyter": {
          "source_hidden": false,
          "outputs_hidden": false
        },
        "nteract": {
          "transient": {
            "deleting": false
          }
        },
        "gather": {
          "logged": 1717656474074
        }
      }
    },
    {
      "cell_type": "code",
      "source": [
        "#split data into training and test set\n",
        "\n",
        "x_train, x_test, y_train, y_test = train_test_split(x,y, test_size=0.30)"
      ],
      "outputs": [],
      "execution_count": 8,
      "metadata": {
        "jupyter": {
          "source_hidden": false,
          "outputs_hidden": false
        },
        "nteract": {
          "transient": {
            "deleting": false
          }
        },
        "gather": {
          "logged": 1717656577082
        }
      }
    },
    {
      "cell_type": "code",
      "source": [
        "from sklearn.tree import DecisionTreeClassifier"
      ],
      "outputs": [],
      "execution_count": 9,
      "metadata": {
        "jupyter": {
          "source_hidden": false,
          "outputs_hidden": false
        },
        "nteract": {
          "transient": {
            "deleting": false
          }
        },
        "gather": {
          "logged": 1717656614336
        }
      }
    },
    {
      "cell_type": "code",
      "source": [
        "#Train a decision tree model\n",
        "\n",
        "print('Training a decision tree model')\n",
        "model = DecisionTreeClassifier().fit(x_train,y_train)"
      ],
      "outputs": [
        {
          "output_type": "stream",
          "name": "stdout",
          "text": "Training a decision tree model\n"
        }
      ],
      "execution_count": 10,
      "metadata": {
        "jupyter": {
          "source_hidden": false,
          "outputs_hidden": false
        },
        "nteract": {
          "transient": {
            "deleting": false
          }
        },
        "gather": {
          "logged": 1717656705146
        }
      }
    },
    {
      "cell_type": "code",
      "source": [
        "#Calculate Accuracy\n",
        "\n",
        "y_hat = model.predict(x_test)\n",
        "acc = np.average(y_hat=y_test)\n",
        "print('Accuracy', acc)\n",
        "run.log('Accuracy', np.float128(acc))"
      ],
      "outputs": [
        {
          "output_type": "stream",
          "name": "stdout",
          "text": "Accuracy 0.89\n"
        }
      ],
      "execution_count": 11,
      "metadata": {
        "jupyter": {
          "source_hidden": false,
          "outputs_hidden": false
        },
        "nteract": {
          "transient": {
            "deleting": false
          }
        },
        "gather": {
          "logged": 1717656986644
        }
      }
    },
    {
      "cell_type": "code",
      "source": [
        "#AUC\n",
        "y_score = model.predict_proba(x_test)\n",
        "auc = roc_auc_score(y_test, y_score[:,1])\n",
        "print ('AUC:'+ str(auc))\n",
        "run.log('AUC', np.float128(auc))"
      ],
      "outputs": [
        {
          "output_type": "stream",
          "name": "stdout",
          "text": "AUC:0.8750000000000001\n"
        }
      ],
      "execution_count": 14,
      "metadata": {
        "jupyter": {
          "source_hidden": false,
          "outputs_hidden": false
        },
        "nteract": {
          "transient": {
            "deleting": false
          }
        },
        "gather": {
          "logged": 1717657255672
        }
      }
    },
    {
      "cell_type": "code",
      "source": [
        "#Save the trained model\n",
        "model_file = 'diabetes2_model.pkl'\n",
        "joblib.dump(value=model, filename=model_file)\n",
        "run.upload_file(name='outputs/' + model_file,path_or_stream='./' + model_file)"
      ],
      "outputs": [
        {
          "output_type": "execute_result",
          "execution_count": 16,
          "data": {
            "text/plain": "<azureml._restclient.models.batch_artifact_content_information_dto.BatchArtifactContentInformationDto at 0x7fa9d14caa90>"
          },
          "metadata": {}
        }
      ],
      "execution_count": 16,
      "metadata": {
        "jupyter": {
          "source_hidden": false,
          "outputs_hidden": false
        },
        "nteract": {
          "transient": {
            "deleting": false
          }
        },
        "gather": {
          "logged": 1717660082106
        }
      }
    },
    {
      "cell_type": "code",
      "source": [
        "#complete the run\n",
        "run.complete()"
      ],
      "outputs": [],
      "execution_count": 17,
      "metadata": {
        "jupyter": {
          "source_hidden": false,
          "outputs_hidden": false
        },
        "nteract": {
          "transient": {
            "deleting": false
          }
        },
        "gather": {
          "logged": 1717660138925
        }
      }
    },
    {
      "cell_type": "code",
      "source": [
        "#Register the model\n",
        "run.register_model(model_path='outputs/diabetes2_model.pkl', model_name='diabetes2_models', tags={'Training Context':'Inline Traininng'}, properties={'AUC': run.get_metrics()['AUC'], 'Accuracy':run.get_metrics()['Accuracy']})\n",
        "print('model trained and Registered')\n"
      ],
      "outputs": [
        {
          "output_type": "stream",
          "name": "stdout",
          "text": "model trained and Registered\n"
        }
      ],
      "execution_count": 18,
      "metadata": {
        "jupyter": {
          "source_hidden": false,
          "outputs_hidden": false
        },
        "nteract": {
          "transient": {
            "deleting": false
          }
        },
        "gather": {
          "logged": 1717660745421
        }
      }
    },
    {
      "cell_type": "code",
      "source": [
        "#check in your model within your workspace if the model have been registered...\n"
      ],
      "outputs": [],
      "execution_count": null,
      "metadata": {
        "jupyter": {
          "source_hidden": false,
          "outputs_hidden": false
        },
        "nteract": {
          "transient": {
            "deleting": false
          }
        }
      }
    },
    {
      "cell_type": "code",
      "source": [
        "#get the informations from the Registered model\n",
        "\n",
        "from azureml.core import Model\n",
        "\n",
        "for model in Model.list(ws):\n",
        "    print(model.name, 'Version', model.version)\n",
        "    for tag_name in model.tags:\n",
        "        tag = model.tags[tag_name]\n",
        "        print('\\t',tag_name,':',tag)\n",
        "    for prop_name in model.properties:\n",
        "        prop = model.properties[prop_name]\n",
        "        print('\\t', prop_name,':',prop)\n",
        "        print('\\n')    \n"
      ],
      "outputs": [
        {
          "output_type": "stream",
          "name": "stdout",
          "text": "diabetes2_models Version 1\n\t Training Context : Inline Traininng\n\t AUC : 0.875000000000000111\n\n\n\t Accuracy : 0.8900000000000000133\n\n\ndiabetes2_model Version 1\n\t Training Context : Inline Training\n\t AUC : 0.8849695199390397171\n\n\n\t Accuracy : 0.89866666666666661367\n\n\n"
        }
      ],
      "execution_count": 20,
      "metadata": {
        "jupyter": {
          "source_hidden": false,
          "outputs_hidden": false
        },
        "nteract": {
          "transient": {
            "deleting": false
          }
        },
        "gather": {
          "logged": 1717662041384
        }
      }
    },
    {
      "cell_type": "code",
      "source": [
        "#get the model alone by querrying the workspace model\n",
        "\n",
        "model = ws.models['diabetes2_models']\n",
        "print(model.name, 'version', model.version)"
      ],
      "outputs": [
        {
          "output_type": "stream",
          "name": "stdout",
          "text": "diabetes2_models version 1\n"
        }
      ],
      "execution_count": 21,
      "metadata": {
        "jupyter": {
          "source_hidden": false,
          "outputs_hidden": false
        },
        "nteract": {
          "transient": {
            "deleting": false
          }
        },
        "gather": {
          "logged": 1717662714343
        }
      }
    },
    {
      "cell_type": "code",
      "source": [
        "#lets create some scoring files and envt file we going to use for deployment with a webservices\n"
      ],
      "outputs": [],
      "execution_count": null,
      "metadata": {
        "jupyter": {
          "source_hidden": false,
          "outputs_hidden": false
        },
        "nteract": {
          "transient": {
            "deleting": false
          }
        }
      }
    },
    {
      "cell_type": "code",
      "source": [
        "import os\n",
        "\n",
        "folder_name = 'diabetesserve'\n",
        "\n",
        "#create a folder for the webservice files\n",
        "experiement_folder = './' + folder_name\n",
        "os.makedirs(experiement_folder, exist_ok=True)\n",
        "\n",
        "print(folder_name,'folder created.')\n",
        "\n",
        "#set the path for scoring scripts and environments files\n",
        "script_file = os.path.join(experiement_folder,\"scorediab.py\")\n",
        "env_file = os.path.join(experiement_folder,\"diabeenv.yml\")"
      ],
      "outputs": [
        {
          "output_type": "stream",
          "name": "stdout",
          "text": "diabetesserve folder created.\n"
        }
      ],
      "execution_count": 43,
      "metadata": {
        "jupyter": {
          "source_hidden": false,
          "outputs_hidden": false
        },
        "nteract": {
          "transient": {
            "deleting": false
          }
        },
        "gather": {
          "logged": 1717676633558
        }
      }
    },
    {
      "cell_type": "code",
      "source": [
        "#the web service where we deploy the model, will need some python code to load the input data, \n",
        "#get the model from workspace and generate abd return predictions, \n",
        "#we will then save this code in an an entry scripts called a scoring script \n",
        "#that will be deployed to the web servivce\n"
      ],
      "outputs": [],
      "execution_count": null,
      "metadata": {
        "jupyter": {
          "source_hidden": false,
          "outputs_hidden": false
        },
        "nteract": {
          "transient": {
            "deleting": false
          }
        }
      }
    },
    {
      "cell_type": "code",
      "source": [
        "%%writefile $script_file\n",
        "import json\n",
        "import joblib\n",
        "import numpy as np\n",
        "from azureml.core.model import Model\n",
        "\n",
        "# called the when the model is loaded\n",
        "def init():\n",
        "    global model\n",
        "    #get the path to the deployed model file and load it\n",
        "    model_path = Model.get_model_path('diabetes2_models')\n",
        "    model = joblib.load(model_path)\n",
        "\n",
        "#called when the request is recieved\n",
        "def run(raw_data):\n",
        "    #get the input data as a numpy array\n",
        "    data = np.array(json.loads(raw_data)['data'])\n",
        "    #get a prediction from the model\n",
        "    predictions = model.predict(data)\n",
        "    #get the corresponding classnames for each prediction (0 or 1)\n",
        "    classnames = ['not-diabetic', 'diabetic']\n",
        "    predicted_classes =[]\n",
        "    for prediction in predictions:\n",
        "        predicted_classes.append(classnames[predictions])\n",
        "        #return the predictions as Json\n",
        "    return json.dumps(predicted_classes)\n"
      ],
      "outputs": [
        {
          "output_type": "stream",
          "name": "stdout",
          "text": "Overwriting ./diabetesserve/scorediab.py\n"
        }
      ],
      "execution_count": 51,
      "metadata": {
        "jupyter": {
          "source_hidden": false,
          "outputs_hidden": false
        },
        "nteract": {
          "transient": {
            "deleting": false
          }
        }
      }
    },
    {
      "cell_type": "code",
      "source": [
        "#the web service will be hosted in a containers and the container will need to install any required python dependencies\n",
        "#when it gets initialiazed. our scoring file/code require the scikitlearn and azureml-defaults packages, \n",
        "#so due to that we will create a yml that will tell the container host toinstall them into your environments"
      ],
      "outputs": [],
      "execution_count": null,
      "metadata": {
        "jupyter": {
          "source_hidden": false,
          "outputs_hidden": false
        },
        "nteract": {
          "transient": {
            "deleting": false
          }
        }
      }
    },
    {
      "cell_type": "code",
      "source": [
        "%%writefile $env_file\n",
        "name: inference_env\n",
        "dependencies:\n",
        "- python=3.6.2\n",
        "- scikit-learn\n",
        "- pip\n",
        "- pip:\n",
        "  - azureml-defaults"
      ],
      "outputs": [
        {
          "output_type": "stream",
          "name": "stdout",
          "text": "Overwriting ./diabetesserve/diabeenv.yml\n"
        }
      ],
      "execution_count": 52,
      "metadata": {
        "jupyter": {
          "source_hidden": false,
          "outputs_hidden": false
        },
        "nteract": {
          "transient": {
            "deleting": false
          }
        }
      }
    },
    {
      "cell_type": "code",
      "source": [
        "#now weareready for deployments, we will deploy to a container service diabetesservicescontainer\n"
      ],
      "outputs": [],
      "execution_count": null,
      "metadata": {
        "jupyter": {
          "source_hidden": false,
          "outputs_hidden": false
        },
        "nteract": {
          "transient": {
            "deleting": false
          }
        }
      }
    },
    {
      "cell_type": "code",
      "source": [],
      "outputs": [
        {
          "output_type": "stream",
          "name": "stdout",
          "text": "None\n"
        }
      ],
      "execution_count": 30,
      "metadata": {
        "jupyter": {
          "source_hidden": false,
          "outputs_hidden": false
        },
        "nteract": {
          "transient": {
            "deleting": false
          }
        },
        "gather": {
          "logged": 1717673661958
        }
      }
    },
    {
      "cell_type": "code",
      "source": [
        "\n"
      ],
      "outputs": [],
      "execution_count": 0,
      "metadata": {
        "jupyter": {
          "source_hidden": false,
          "outputs_hidden": false
        },
        "nteract": {
          "transient": {
            "deleting": false
          }
        },
        "gather": {
          "logged": 1717733142775
        }
      }
    },
    {
      "cell_type": "code",
      "source": [],
      "outputs": [],
      "execution_count": null,
      "metadata": {
        "jupyter": {
          "source_hidden": false,
          "outputs_hidden": false
        },
        "nteract": {
          "transient": {
            "deleting": false
          }
        },
        "gather": {
          "logged": 1717675052838
        }
      }
    }
  ],
  "metadata": {
    "kernelspec": {
      "name": "python38-azureml",
      "language": "python",
      "display_name": "Python 3.8 - AzureML"
    },
    "language_info": {
      "name": "python",
      "version": "3.8.5",
      "mimetype": "text/x-python",
      "codemirror_mode": {
        "name": "ipython",
        "version": 3
      },
      "pygments_lexer": "ipython3",
      "nbconvert_exporter": "python",
      "file_extension": ".py"
    },
    "microsoft": {
      "ms_spell_check": {
        "ms_spell_check_language": "en"
      },
      "host": {
        "AzureML": {
          "notebookHasBeenCompleted": true
        }
      }
    },
    "kernel_info": {
      "name": "python38-azureml"
    },
    "nteract": {
      "version": "nteract-front-end@1.0.0"
    }
  },
  "nbformat": 4,
  "nbformat_minor": 2
}